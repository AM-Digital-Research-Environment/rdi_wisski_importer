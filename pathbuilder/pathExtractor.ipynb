{
 "cells": [
  {
   "cell_type": "code",
   "execution_count": 1,
   "id": "fe76cd2a-4ee8-445a-9c10-d325fd027a65",
   "metadata": {},
   "outputs": [],
   "source": [
    "# XML Library\n",
    "import xml.etree.ElementTree as ET\n",
    "import pandas as pd"
   ]
  },
  {
   "cell_type": "code",
   "execution_count": 2,
   "id": "f1b6c09e-ef7c-4a17-9a0b-af22691b602a",
   "metadata": {},
   "outputs": [],
   "source": [
    "tree = ET.parse('89main_path_20240528T161913.xml')\n",
    "root = tree.getroot()"
   ]
  },
  {
   "cell_type": "code",
   "execution_count": 3,
   "id": "704cb898-2988-4ba1-a622-1c3594a990af",
   "metadata": {},
   "outputs": [],
   "source": [
    "bundles = []\n",
    "fields = []\n",
    "\n",
    "for path in root.findall('path'):\n",
    "    if path.find('is_group').text == '1':\n",
    "        bundles.append({'bundleName':path.find('id').text, 'bundleId':path.find('bundle').text})\n",
    "    elif path.find('is_group').text == '0':\n",
    "        fields.append({'bundleId':path.find('bundle').text,'fieldName':path.find('id').text, 'fieldId':path.find('field').text})"
   ]
  },
  {
   "cell_type": "code",
   "execution_count": 4,
   "id": "2c186526-f1ce-46e1-a8e3-d54e328a16cd",
   "metadata": {},
   "outputs": [],
   "source": [
    "df = pd.DataFrame(bundles).merge(pd.DataFrame(fields), on='bundleId', how='outer').sort_values('bundleId').reset_index(drop=True)"
   ]
  },
  {
   "cell_type": "code",
   "execution_count": 5,
   "id": "f1cc0960-c37a-491f-b831-07cf85d3f9f3",
   "metadata": {},
   "outputs": [],
   "source": [
    "df.to_excel('pathbuilder_89.xlsx', index=False)"
   ]
  }
 ],
 "metadata": {
  "kernelspec": {
   "display_name": "Python 3 (ipykernel)",
   "language": "python",
   "name": "python3"
  },
  "language_info": {
   "codemirror_mode": {
    "name": "ipython",
    "version": 3
   },
   "file_extension": ".py",
   "mimetype": "text/x-python",
   "name": "python",
   "nbconvert_exporter": "python",
   "pygments_lexer": "ipython3",
   "version": "3.10.13"
  }
 },
 "nbformat": 4,
 "nbformat_minor": 5
}
